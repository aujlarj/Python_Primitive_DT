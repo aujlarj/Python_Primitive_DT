{
 "cells": [
  {
   "cell_type": "markdown",
   "id": "582f7053",
   "metadata": {},
   "source": [
    "# Strings (Immutable)\n",
    "### Immutable\n",
    "Value at given location/address will not change."
   ]
  },
  {
   "cell_type": "markdown",
   "id": "f6c50c9d",
   "metadata": {},
   "source": [
    "<b> Capitalizaton"
   ]
  },
  {
   "cell_type": "code",
   "execution_count": 3,
   "id": "06918f9a",
   "metadata": {},
   "outputs": [
    {
     "name": "stdout",
     "output_type": "stream",
     "text": [
      "isupper: False\n",
      "islower: False\n",
      "istitle: False\n"
     ]
    }
   ],
   "source": [
    "message = \"Some random text goes here.\"\n",
    "\n",
    "# captialization boolean\n",
    "print('isupper:',message.isupper())\n",
    "print('islower:',message.islower())\n",
    "print('istitle:',message.istitle())"
   ]
  },
  {
   "cell_type": "markdown",
   "id": "69ddd720",
   "metadata": {},
   "source": [
    "### Poisition/Index/Find"
   ]
  },
  {
   "cell_type": "markdown",
   "id": "66b2af2d",
   "metadata": {},
   "source": [
    "<b>Syntax:</b> string.find('sub_string') </br>\n",
    "<b>Big(O):</b> N </br>\n",
    "<u>Note:</u> .find() is good to to use for string (does not work on list or tuples)"
   ]
  },
  {
   "cell_type": "code",
   "execution_count": 42,
   "id": "95afb08a",
   "metadata": {},
   "outputs": [
    {
     "name": "stdout",
     "output_type": "stream",
     "text": [
      "Index of \"Python\": 18\n",
      "Index of \"Random\": -1\n",
      "Not here\n"
     ]
    }
   ],
   "source": [
    "test_string = 'We are practicing Python fundamentals because Python is better than Java'\n",
    "sub_string = 'Python'\n",
    "sub_string2 = 'Random'\n",
    "# Return it's first occourance index\n",
    "print(f'Index of \"{sub_string}\": {test_string.find(sub_string)}')\n",
    "\n",
    "# Returns -1 if sub_string doesn't exisit\n",
    "print(f'Index of \"{sub_string2}\": {test_string.find(sub_string2)}')\n",
    "\n",
    "# Can be used in conditional statement\n",
    "if test_string.find(sub_string2) > 0:\n",
    "    print('Its here')\n",
    "else:\n",
    "    print('Not here')"
   ]
  },
  {
   "cell_type": "markdown",
   "id": "669f75d7",
   "metadata": {},
   "source": [
    "<b>Syntax:</b> string.index('sub_string') </br>\n",
    "<b>Big(O):</b> N <br>\n",
    "<u>Note:</u> .index() works on list and tuples as well"
   ]
  },
  {
   "cell_type": "code",
   "execution_count": 43,
   "id": "d6d4e425",
   "metadata": {},
   "outputs": [
    {
     "name": "stdout",
     "output_type": "stream",
     "text": [
      "Index of \"Python\": 18\n",
      "True\n"
     ]
    }
   ],
   "source": [
    "# Return it's first occourance index\n",
    "print(f'Index of \"{sub_string}\": {test_string.index(sub_string)}')\n",
    "\n",
    "# Returns -1 if sub_string doesn't exisit\n",
    "print(f'Index of \"{sub_string2}\": {test_string.index(sub_string2)}')\n",
    "\n",
    "\n",
    "print('practicing' in test_string)"
   ]
  },
  {
   "cell_type": "markdown",
   "id": "1872f224",
   "metadata": {},
   "source": [
    "<b> Other useful functions"
   ]
  },
  {
   "cell_type": "code",
   "execution_count": 45,
   "id": "08a63e00",
   "metadata": {},
   "outputs": [
    {
     "name": "stdout",
     "output_type": "stream",
     "text": [
      "replace: Some | random | text | goes | here.\n",
      "strip: Some random text goes here.\n",
      "split: ['Some', 'random', 'text', 'goes', 'here.']\n"
     ]
    }
   ],
   "source": [
    "# trim or replace or split\n",
    "message = \"Some random text goes here.\"\n",
    "\n",
    "print('replace:',message.replace(' ', ' | '))\n",
    "print('strip:',message.strip('|'))\n",
    "print('split:', message.split(' '))"
   ]
  },
  {
   "cell_type": "code",
   "execution_count": 46,
   "id": "5ce11eaa",
   "metadata": {},
   "outputs": [
    {
     "name": "stdout",
     "output_type": "stream",
     "text": [
      "count: 4\n"
     ]
    }
   ],
   "source": [
    "# count\n",
    "print('count:',message.count(' '))"
   ]
  },
  {
   "cell_type": "code",
   "execution_count": 47,
   "id": "ae87ded7",
   "metadata": {},
   "outputs": [
    {
     "name": "stdout",
     "output_type": "stream",
     "text": [
      "startswith: True\n",
      "endswith: False\n"
     ]
    }
   ],
   "source": [
    "# prefix or suffix\n",
    "print('startswith:',message.startswith('S'))\n",
    "print('endswith:',message.endswith(' '))"
   ]
  },
  {
   "cell_type": "code",
   "execution_count": 49,
   "id": "7238dd39",
   "metadata": {},
   "outputs": [
    {
     "name": "stdout",
     "output_type": "stream",
     "text": [
      "\"Some\" in message: True\n",
      "\"random\" not in message: False\n"
     ]
    }
   ],
   "source": [
    "# Exist in string\n",
    "print('\"Some\" in message:', \"Some\" in message)\n",
    "print('\"random\" not in message:',\"random\" not in message)"
   ]
  },
  {
   "cell_type": "markdown",
   "id": "f9f0bd39",
   "metadata": {},
   "source": [
    "### Slicing\n",
    "Index starts from 0"
   ]
  },
  {
   "cell_type": "code",
   "execution_count": 78,
   "id": "1cb29197",
   "metadata": {},
   "outputs": [
    {
     "name": "stdout",
     "output_type": "stream",
     "text": [
      "Format/Syntax of Slicing: string[start_index : end_index + 1]\n",
      "string:  0123456789\n",
      "string[1:4] : 123\n",
      "string[0:10] : 0123456789\n",
      "string[0:] : 0123456789\n"
     ]
    }
   ],
   "source": [
    "string = '0123456789'\n",
    "\n",
    "print('Format/Syntax of Slicing: string[start_index : end_index + 1]')\n",
    "\n",
    "# Slicing\n",
    "print('string: ',string)\n",
    "print('string[1:4] :',string[1:4])\n",
    "print('string[0:10] :',string[0:10])\n",
    "print('string[0:] :',string[0:])"
   ]
  },
  {
   "cell_type": "markdown",
   "id": "5d442bc5",
   "metadata": {},
   "source": [
    "Reserve Slicing"
   ]
  },
  {
   "cell_type": "code",
   "execution_count": 80,
   "id": "2104c526",
   "metadata": {},
   "outputs": [
    {
     "name": "stdout",
     "output_type": "stream",
     "text": [
      "string:  0123456789\n",
      "string[-4:]: 6789\n",
      "string[-5:-1]: 5678\n",
      "string[-1]: 9\n",
      "\n",
      "---\n",
      " -> Returns reversed string\n",
      "string:  0123456789\n",
      "string[4:1:-1]: 432\n",
      "string[8:0:-1]: 87654321\n",
      "string[:1:-1]: 98765432\n"
     ]
    }
   ],
   "source": [
    "# Reverse Slicing\n",
    "print('string: ',string)\n",
    "print('string[-4:]:',string[-4:])\n",
    "print('string[-5:-1]:',string[-5:-1])\n",
    "print('string[-1]:', string[-1]) # gives the last character\n",
    "print('\\n---')\n",
    "\n",
    "# Reverse Slicing as -1 step to reverse string\n",
    "print(' -> Returns reversed string')\n",
    "print('string: ',string)\n",
    "print('string[4:1:-1]:',string[4:1:-1])\n",
    "print('string[8:0:-1]:',string[8:0:-1])\n",
    "print('string[:1:-1]:',string[:1:-1])"
   ]
  },
  {
   "cell_type": "code",
   "execution_count": 81,
   "id": "8df8c572",
   "metadata": {},
   "outputs": [
    {
     "name": "stdout",
     "output_type": "stream",
     "text": [
      "string[::2]: 02468\n",
      "string[::-3]: 9630\n"
     ]
    }
   ],
   "source": [
    "# Add a step to Slicing\n",
    "print('string[::2]:',string[::2])\n",
    "print('string[::-3]:',string[::-3])"
   ]
  },
  {
   "cell_type": "markdown",
   "id": "1a7d7e1b",
   "metadata": {},
   "source": [
    "### Some useful functions/methods"
   ]
  },
  {
   "cell_type": "code",
   "execution_count": 10,
   "id": "d2d27a52",
   "metadata": {},
   "outputs": [
    {
     "name": "stdout",
     "output_type": "stream",
     "text": [
      "Type Conversion --------------------------\n",
      "[*string]: ['0', '1', '2', '3', '4', '5', '6', '7', '8', '9']\n",
      "{*string}: {'9', '2', '3', '4', '1', '8', '6', '0', '5', '7'}\n"
     ]
    }
   ],
   "source": [
    "string_one = \"ABCDDEFGHIJ\"\n",
    "string_two = \"JKLMNOPQRST\"\n",
    "List = [*string]\n",
    "set_string = {*string}\n",
    "\n",
    "#  Type Conversion\n",
    "print('Type Conversion --------------------------')\n",
    "print('[*string]:',List)\n",
    "print('{*string}:',set_string)"
   ]
  },
  {
   "cell_type": "code",
   "execution_count": 11,
   "id": "a53bc2d5",
   "metadata": {},
   "outputs": [
    {
     "name": "stdout",
     "output_type": "stream",
     "text": [
      "\n",
      "Concatiation --------------------------\n",
      "string_one: ABCDDEFGHIJ\n",
      "string_two: JKLMNOPQRST\n",
      "string_one + string_two: ABCDDEFGHIJJKLMNOPQRST\n",
      "string_one * 3: ABCDDEFGHIJABCDDEFGHIJABCDDEFGHIJ\n"
     ]
    }
   ],
   "source": [
    "# Concatiation \n",
    "# Does not support 2 string multiplication, subration or division \n",
    "print('\\nConcatiation --------------------------')\n",
    "string_add = string_one + string_two\n",
    "string_concat = string_one * 3\n",
    "\n",
    "print('string_one:',string_one)\n",
    "print('string_two:',string_two)\n",
    "print('string_one + string_two:',string_add)\n",
    "print('string_one * 3:',string_concat)"
   ]
  },
  {
   "cell_type": "code",
   "execution_count": 12,
   "id": "934b723f",
   "metadata": {},
   "outputs": [
    {
     "name": "stdout",
     "output_type": "stream",
     "text": [
      "\n",
      "Comparison  --------------------------\n",
      "\"a\" < \"b\": True\n",
      "\"ABC\" >= \"C\": False\n",
      "\"ABC\" <= \"C\": True\n"
     ]
    }
   ],
   "source": [
    "# Comparison \n",
    "print('\\nComparison  --------------------------')\n",
    "print('\"a\" < \"b\":', 'a' < 'b')  # 'a' has a smaller Unicode value\n",
    "string1 = 'ABC'\n",
    "string2 = 'C'\n",
    "\n",
    "print('\"ABC\" >= \"C\":',string1 >= string2)\n",
    "\n",
    "print('\"ABC\" <= \"C\":',string1 <= string2)"
   ]
  },
  {
   "cell_type": "code",
   "execution_count": 13,
   "id": "7627b2b0",
   "metadata": {},
   "outputs": [
    {
     "name": "stdout",
     "output_type": "stream",
     "text": [
      "\n",
      "Conditional Variable(String)  --------------------------\n",
      "\"output_value1\" if condition else \"output_value2\"\n",
      "Conditional Variable(string): If condition is True this is variable\n"
     ]
    }
   ],
   "source": [
    "# Conditional Variable(String)\n",
    "print('\\nConditional Variable(String)  --------------------------')\n",
    "\n",
    "condition = True\n",
    "string_var = \"If condition is True this is variable\" if condition else \"If condition is False this is variable\"\n",
    "print('\"output_value1\" if condition else \"output_value2\"')\n",
    "print('Conditional Variable(string):',string_var)"
   ]
  },
  {
   "cell_type": "markdown",
   "id": "108d4fc0",
   "metadata": {},
   "source": [
    "# Numbers (Immutable)"
   ]
  },
  {
   "cell_type": "markdown",
   "id": "64f6e1c8",
   "metadata": {},
   "source": [
    "<b> 3 types </b>\n",
    "* Int\n",
    "* Float\n",
    "* Complex"
   ]
  },
  {
   "cell_type": "code",
   "execution_count": 14,
   "id": "d872949c",
   "metadata": {},
   "outputs": [
    {
     "name": "stdout",
     "output_type": "stream",
     "text": [
      "Number \"456\" has type <class 'int'>\n",
      "Number \"4.256\" has type <class 'float'>\n",
      "Number \"(2-3j)\" has type <class 'complex'>\n",
      "--\n",
      "Complex Number real part(num.real)= \"2.0\"\n",
      "Complex Number imaginary part(num.imag)= \"-3.0\"\n"
     ]
    }
   ],
   "source": [
    "some_int = 456\n",
    "some_float = 4.256\n",
    "some_complex = 2 - 3j\n",
    "\n",
    "print(f'Number \"{some_int}\" has type {type(some_int)}')\n",
    "print(f'Number \"{some_float}\" has type {type(some_float)}')\n",
    "print(f'Number \"{some_complex}\" has type {type(some_complex)}')\n",
    "print('--')\n",
    "print(f'Complex Number real part(num.real)= \"{some_complex.real}\"')\n",
    "print(f'Complex Number imaginary part(num.imag)= \"{some_complex.imag}\"')"
   ]
  },
  {
   "cell_type": "markdown",
   "id": "8e182c14",
   "metadata": {},
   "source": [
    "# Boolean (Immutable)"
   ]
  },
  {
   "cell_type": "markdown",
   "id": "3e014e6a",
   "metadata": {},
   "source": [
    "* True (bit value = 1)\n",
    "* False (bit value = 0)"
   ]
  },
  {
   "cell_type": "code",
   "execution_count": 15,
   "id": "857e6b37",
   "metadata": {},
   "outputs": [
    {
     "name": "stdout",
     "output_type": "stream",
     "text": [
      "True\n",
      "str(True): True\n",
      "--\n",
      "False\n",
      "int(False): 0\n",
      "--\n",
      "10 * False = 0\n",
      "10 + True = 11\n"
     ]
    }
   ],
   "source": [
    "print(True)\n",
    "print('str(True):',str(True))\n",
    "print('--')\n",
    "\n",
    "print(False)\n",
    "print('int(False):',int(False))\n",
    "print('--')\n",
    "\n",
    "print(f'10 * False = {10 * False}')\n",
    "print(f'10 + True = {10 + True}')"
   ]
  },
  {
   "cell_type": "markdown",
   "id": "f2a2a3f7",
   "metadata": {},
   "source": [
    "# Arithmetic"
   ]
  },
  {
   "cell_type": "markdown",
   "id": "5cfcc816",
   "metadata": {},
   "source": [
    "<b> 4 Basic Operations </b>\n",
    "* Addition\n",
    "* Subtraction\n",
    "* Multiplication\n",
    "* Division"
   ]
  },
  {
   "cell_type": "markdown",
   "id": "16c335d0",
   "metadata": {},
   "source": [
    "<b> Extra Operations </b>\n",
    "* Floor Division (return int)\n",
    "* Modulas (return remainder)\n",
    "* Power (order of)\n",
    "\n",
    "Multiple/Division happens before addition/subtraction\n",
    "Between Multiplication & Division, the order matters. Example: (a * b / c) Multipliucation will happen first\n",
    "Same for Addition and Subtraction"
   ]
  },
  {
   "cell_type": "code",
   "execution_count": 45,
   "id": "80087ef4",
   "metadata": {},
   "outputs": [
    {
     "name": "stdout",
     "output_type": "stream",
     "text": [
      "An int \"5\" mulitpled with a float \"10.0\" is equal to \"50.0\" float\n",
      "10.55 * (4.5+2j) = (47.475+21.1j) <class 'complex'>\n"
     ]
    }
   ],
   "source": [
    "# Arthemetic opertation between two types\n",
    "# Smaller type gets converted to bigger/wider type\n",
    "# Example: int (mutilpy/divide/add/sub) float = float\n",
    "# OR Float (mutilpy/divide/add/sub) complex_number = complex_number\n",
    "\n",
    "print(f'An int \"{5}\" mulitpled with a float \"{10.0}\" is equal to \"{5 * 10.0}\" float')\n",
    "\n",
    "some_float = 10.55\n",
    "some_complex = 4.5 + 2j\n",
    "\n",
    "print(f'{some_float} * {some_complex} = {some_float * some_complex} {type(some_float * some_complex)}')"
   ]
  },
  {
   "cell_type": "code",
   "execution_count": 46,
   "id": "9c251c99",
   "metadata": {},
   "outputs": [
    {
     "name": "stdout",
     "output_type": "stream",
     "text": [
      "(16 // 3): 5\n",
      "(10 % 3): 1\n",
      "(2 ** 3): 8\n"
     ]
    }
   ],
   "source": [
    "floor_div = 16 // 3\n",
    "modulas = 10 % 3\n",
    "power = 2 ** 3\n",
    "\n",
    "\n",
    "print('(16 // 3):',floor_div)\n",
    "print('(10 % 3):',modulas)\n",
    "print('(2 ** 3):',power)"
   ]
  },
  {
   "cell_type": "markdown",
   "id": "9d9571f3",
   "metadata": {},
   "source": [
    "# Assignment Operators"
   ]
  },
  {
   "cell_type": "markdown",
   "id": "f74bd5e2",
   "metadata": {},
   "source": [
    "<b> Basic Assignments</b>\n",
    "* =, +=, *=, /=, \n",
    "* //=, **=, %="
   ]
  },
  {
   "cell_type": "markdown",
   "id": "d2bff82a",
   "metadata": {},
   "source": [
    "<b> Logical Assignment </b>\n",
    "* != [OR]\n",
    "* &= [AND]\n",
    "* ^= [XOR]\n",
    "* \">>=\" [Right Shift] divides by 2\n",
    "* <<= [Left Shift] multiple by 2"
   ]
  },
  {
   "cell_type": "code",
   "execution_count": 47,
   "id": "3290ec5e",
   "metadata": {},
   "outputs": [
    {
     "name": "stdout",
     "output_type": "stream",
     "text": [
      "num: 10\n",
      "num += 5: 15\n",
      "num -= 5: 10\n",
      "num *= 2 20\n",
      "num /= 2 10.0\n",
      "num **= 2 100.0\n"
     ]
    }
   ],
   "source": [
    "num = 10\n",
    "print('num:',num)\n",
    "\n",
    "# Basic Assignments\n",
    "num += 5\n",
    "print('num += 5:',num)\n",
    "\n",
    "num -= 5\n",
    "print('num -= 5:',num)\n",
    "\n",
    "num *= 2\n",
    "print('num *= 2',num)\n",
    "\n",
    "num /= 2\n",
    "print('num /= 2',num)\n",
    "\n",
    "num **= 2\n",
    "print('num **= 2',num)"
   ]
  },
  {
   "cell_type": "code",
   "execution_count": 48,
   "id": "dbf5f025",
   "metadata": {},
   "outputs": [
    {
     "name": "stdout",
     "output_type": "stream",
     "text": [
      "Number has to be int, to apply logical assignments\n",
      "num <<= 2: 400\n",
      "num >>= 1: 200\n",
      "num |= 1: 201\n",
      "num ^= 1: 200\n",
      "num &= 1: 0\n"
     ]
    }
   ],
   "source": [
    "# Logical Assignments\n",
    "num = int(num)\n",
    "print('Number has to be int, to apply logical assignments')\n",
    "num <<= 2\n",
    "print('num <<= 2:',num)\n",
    "\n",
    "num >>= 1\n",
    "print('num >>= 1:',num)\n",
    "\n",
    "num |= 1\n",
    "print('num |= 1:',num)\n",
    "\n",
    "num ^= 1\n",
    "print('num ^= 1:',num)\n",
    "\n",
    "num &= 1\n",
    "print('num &= 1:',num)"
   ]
  },
  {
   "cell_type": "markdown",
   "id": "78bab706",
   "metadata": {},
   "source": [
    "# Functions "
   ]
  },
  {
   "cell_type": "markdown",
   "id": "5083e478",
   "metadata": {},
   "source": [
    "<b> Types of Functions</b> \n",
    "* Built-in\n",
    "* User-defined"
   ]
  },
  {
   "cell_type": "markdown",
   "id": "52ebed54",
   "metadata": {},
   "source": [
    "### Altering Immuatble Data "
   ]
  },
  {
   "cell_type": "code",
   "execution_count": 49,
   "id": "5c103954",
   "metadata": {},
   "outputs": [
    {
     "name": "stdout",
     "output_type": "stream",
     "text": [
      "Value of num inside function: 200\n",
      "Value of num outside function: 20\n"
     ]
    }
   ],
   "source": [
    "num = 20\n",
    "def multiply_by_10(n):\n",
    "    n *= 10\n",
    "    num = n  # Changing the value inside the function\n",
    "    print(\"Value of num inside function:\", num)\n",
    "    return n\n",
    "\n",
    "\n",
    "multiply_by_10(num)\n",
    "print(\"Value of num outside function:\", num)  # The original value remains unchanged"
   ]
  },
  {
   "cell_type": "markdown",
   "id": "52fed125",
   "metadata": {},
   "source": [
    "### Altering Muatble Data"
   ]
  },
  {
   "cell_type": "code",
   "execution_count": 50,
   "id": "6f0c375c",
   "metadata": {},
   "outputs": [
    {
     "name": "stdout",
     "output_type": "stream",
     "text": [
      "num_list before function: [10, 20, 30, 40]\n",
      "num_list after function: [100, 200, 300, 400]\n"
     ]
    }
   ],
   "source": [
    "num_list = [10, 20, 30, 40]\n",
    "print('num_list before function:',num_list)\n",
    "\n",
    "\n",
    "def multiply_by_10(my_list):\n",
    "    my_list[0] *= 10\n",
    "    my_list[1] *= 10\n",
    "    my_list[2] *= 10\n",
    "    my_list[3] *= 10\n",
    "\n",
    "\n",
    "multiply_by_10(num_list)\n",
    "print('num_list after function:',num_list)  # The contents of the list have been changed"
   ]
  },
  {
   "cell_type": "markdown",
   "id": "84a59b7b",
   "metadata": {},
   "source": [
    "## Built-in Functions"
   ]
  },
  {
   "cell_type": "code",
   "execution_count": 51,
   "id": "9d309f3e",
   "metadata": {},
   "outputs": [
    {
     "name": "stdout",
     "output_type": "stream",
     "text": [
      "string.find(substring, start_index, end_index): 2\n",
      "-1\n"
     ]
    }
   ],
   "source": [
    "# Find\n",
    "a_string = \"abcdefgh\"\n",
    "print('string.find(substring, start_index, end_index):',a_string.find(\"cde\", 0, 5))\n",
    "random_string = \"This is a string\"\n",
    "print(random_string.find(\"is\", 9, 13))  # No instance of 'is' in this range"
   ]
  },
  {
   "cell_type": "code",
   "execution_count": 52,
   "id": "6fd0a563",
   "metadata": {},
   "outputs": [
    {
     "name": "stdout",
     "output_type": "stream",
     "text": [
      "int(\"12\") * 10: 120\n",
      "int(20.5): 20\n",
      "int(False): 0\n"
     ]
    }
   ],
   "source": [
    "# Int\n",
    "print('int(\"12\") * 10:',int(\"12\") * 10)  # String to integer\n",
    "print('int(20.5):',int(20.5))  # Float to integer\n",
    "print('int(False):',int(False))  # Bool to integer"
   ]
  },
  {
   "cell_type": "code",
   "execution_count": 53,
   "id": "9109423d",
   "metadata": {},
   "outputs": [
    {
     "name": "stdout",
     "output_type": "stream",
     "text": [
      "ord(\"a\"): 97\n",
      "ord(\"0\"): 48\n"
     ]
    }
   ],
   "source": [
    "# Ord -> returns an integer representing the Unicode character\n",
    "print('ord(\"a\"):',ord('a'))\n",
    "print('ord(\"0\"):',ord('0'))"
   ]
  },
  {
   "cell_type": "code",
   "execution_count": 54,
   "id": "80e63dc1",
   "metadata": {},
   "outputs": [
    {
     "name": "stdout",
     "output_type": "stream",
     "text": [
      "float(24): 24.0\n",
      "float(\"24.5\"): 24.5\n",
      "float(True): 1.0\n"
     ]
    }
   ],
   "source": [
    "# Float\n",
    "print('float(24):',float(24))\n",
    "print('float(\"24.5\"):',float('24.5'))\n",
    "print('float(True):',float(True))"
   ]
  },
  {
   "cell_type": "code",
   "execution_count": 55,
   "id": "9b40f70b",
   "metadata": {},
   "outputs": [
    {
     "name": "stdout",
     "output_type": "stream",
     "text": [
      "str(12) + \".345\": 12.345\n",
      "str(False): False\n",
      "str(12.345) + \" is a string\": 12.345 is a string\n"
     ]
    }
   ],
   "source": [
    "# str()\n",
    "print('str(12) + \".345\":',str(12) + '.345')\n",
    "print('str(False):',str(False))\n",
    "print('str(12.345) + \" is a string\":',str(12.345) + ' is a string')"
   ]
  },
  {
   "cell_type": "code",
   "execution_count": 56,
   "id": "b4b8214b",
   "metadata": {},
   "outputs": [
    {
     "name": "stdout",
     "output_type": "stream",
     "text": [
      "bool(10): True\n",
      "bool(0.0): False -----------------\n",
      "bool(\"Hello\"): True\n",
      "bool(\"\"): False -----------------\n"
     ]
    }
   ],
   "source": [
    "# bool()\n",
    "print('bool(10):',bool(10))\n",
    "print('bool(0.0):',bool(0.0), '-----------------')\n",
    "print('bool(\"Hello\"):',bool(\"Hello\"))\n",
    "print('bool(\"\"):',bool(\"\"), '-----------------')"
   ]
  },
  {
   "cell_type": "code",
   "execution_count": null,
   "id": "78ef3239",
   "metadata": {},
   "outputs": [],
   "source": []
  }
 ],
 "metadata": {
  "kernelspec": {
   "display_name": "Python 3 (ipykernel)",
   "language": "python",
   "name": "python3"
  },
  "language_info": {
   "codemirror_mode": {
    "name": "ipython",
    "version": 3
   },
   "file_extension": ".py",
   "mimetype": "text/x-python",
   "name": "python",
   "nbconvert_exporter": "python",
   "pygments_lexer": "ipython3",
   "version": "3.9.13"
  }
 },
 "nbformat": 4,
 "nbformat_minor": 5
}
